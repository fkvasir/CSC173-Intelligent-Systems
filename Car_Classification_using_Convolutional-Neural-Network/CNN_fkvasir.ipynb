{
 "cells": [
  {
   "cell_type": "markdown",
   "metadata": {},
   "source": [
    "# Car Classification Using CNN and Transfer Learning\n",
    "\n",
    "### By: Fulgent Kvasir E. Lavesores\n"
   ]
  },
  {
   "cell_type": "markdown",
   "metadata": {},
   "source": [
    "## Definition of the Problem\n",
    "\n",
    "The goal of this project is to build a Convolutional Neural Network (CNN) that classifies car images into their respective makes and models. Using Convolutional Neural Network, I aim to fine-tune its layers to adapt it to a dataset containing car images with bounding boxes and class labels. The project seeks to:\n",
    "1. Process the car dataset and prepare it for training.\n",
    "2. Train the CNN model using a combination of transfer learning and custom classification layers.\n",
    "3. Evaluate the model's performance on unseen test data.\n"
   ]
  },
  {
   "cell_type": "markdown",
   "metadata": {},
   "source": [
    "## Data Acquisition\n",
    "\n",
    "The dataset used in this project is the **Stanford Cars Dataset**, which includes:\n",
    "- **Training Images**: 8,144 car images, each annotated with bounding boxes and class labels.\n",
    "- **Testing Images**: 8,041 car images with similar annotations.\n",
    "\n",
    "The dataset was loaded using the `scipy.io` library from `.mat` files. Bounding boxes were used to crop images before feeding them into the model.\n",
    "\n",
    "### Source:\n",
    "Stanford Cars Dataset ([https://www.kaggle.com/datasets/jessicali9530/stanford-cars-dataset/data](https://www.kaggle.com/datasets/jessicali9530/stanford-cars-dataset/data))\n"
   ]
  },
  {
   "cell_type": "markdown",
   "metadata": {},
   "source": [
    "## Exploration and Analysis of Data\n",
    "\n",
    ">### Key Points:\n",
    ">> 1. **Number of Classes**: 196 car classes.\n",
    ">> 2. **Number of Images**:\n",
    ">>>   - Training: 8,144 images\n",
    ">>>   - Testing: 8,041 images\n",
    ">> 3. **Bounding Boxes**: Each image has a bounding box annotation for cropping the car region.\n",
    ">> 4. **Dataset Distribution**: Class distribution is balanced, with each class having a similar number of images.\n",
    ">\n",
    ">\n",
    "> ### Descriptive Statistics:\n",
    ">> Statistical analysis was performed to understand the data distribution. Key insights include:\n",
    ">>> - The bounding box coordinates vary across the dataset.\n",
    ">>> - The dataset covers a wide range of car models, providing good diversity.\n",
    ">\n",
    ">\n",
    "> ### Visualizations:\n",
    ">> Plots were created to visualize:\n",
    ">>> - Training loss and accuracy over epochs.\n",
    ">>> - Validation performance trends during training.\n"
   ]
  },
  {
   "cell_type": "markdown",
   "metadata": {},
   "source": [
    "## Data Preparation\n",
    ">\n",
    "> ### Steps:\n",
    ">\n",
    ">> 1. **Loading and Parsing Annotations**:\n",
    ">>>   - Annotations were loaded from `.mat` files for training and testing datasets.\n",
    ">>>   - Bounding box coordinates were extracted to crop images.\n",
    ">>\n",
    ">> 2. **Data Splitting**:\n",
    ">>>   - The training dataset was split into:\n",
    ">>>     - **Training Set**: 8144 data images\n",
    ">>>     - **Validation Set**: 8041 data images\n",
    ">>\n",
    ">> 3. **Preprocessing**:\n",
    ">>>   - Images were resized to 224x224 pixels.\n",
    ">>>   - Pixel values were normalized to the range [0, 1].\n",
    ">>\n",
    ">> 4. **Data Augmentation**:\n",
    ">>>   - Techniques such as rotation, zooming, and horizontal flipping were applied to the training data.\n",
    ">> 5. **Model Preparation**:\n",
    ">>>   - Custom fully connected layers were added for classification.\n",
    ">>\n"
   ]
  },
  {
   "cell_type": "markdown",
   "metadata": {},
   "source": [
    "### Loading the Libraries"
   ]
  },
  {
   "cell_type": "code",
   "execution_count": 3,
   "metadata": {},
   "outputs": [],
   "source": [
    "import numpy as np # linear algebra\n",
    "import pandas as pd # data processing, CSV file I/O (e.g. pd.read_csv)\n",
    "\n",
    "\n",
    "import os\n",
    "for dirname, _, filenames in os.walk('C:/Users/ASUS/Downloads/CNN_fkvasir/input'):\n",
    "    for filename in filenames:\n",
    "        print(os.path.join(dirname, filename))\n"
   ]
  },
  {
   "cell_type": "markdown",
   "metadata": {},
   "source": [
    "### Loading of Dataset"
   ]
  },
  {
   "cell_type": "code",
   "execution_count": 4,
   "metadata": {},
   "outputs": [],
   "source": [
    "import numpy as np\n",
    "import pandas as pd\n",
    "import scipy.io as sio\n",
    "from PIL import Image\n",
    "import matplotlib.pyplot as plt\n",
    "import tensorflow as tf\n",
    "from tensorflow.keras.preprocessing.image import ImageDataGenerator\n",
    "from tensorflow.keras.models import Sequential\n",
    "from tensorflow.keras.layers import Dense, Flatten, Dropout, BatchNormalization, Conv2D, MaxPooling2D\n",
    "from tensorflow.keras.callbacks import EarlyStopping\n",
    "\n",
    "os.environ['TF_CPP_MIN_LOG_LEVEL'] = '2'\n",
    "\n",
    "# Load and Prepare Annotations\n",
    "cars_annos_train = sio.loadmat('C:/Users/ASUS/Downloads/CNN_fkvasir/Standford_cars_dataset/devkit/cars_train_annos.mat')\n",
    "annotations_train = cars_annos_train['annotations']\n",
    "annotations_train = np.transpose(annotations_train)\n",
    "\n",
    "# Parse training annotations\n",
    "fnames_train = []\n",
    "bboxes_train = []\n",
    "for annotation in annotations_train:\n",
    "    bbox_x1 = annotation[0][0][0][0]\n",
    "    bbox_y1 = annotation[0][1][0][0]\n",
    "    bbox_x2 = annotation[0][2][0][0]\n",
    "    bbox_y2 = annotation[0][3][0][0]\n",
    "    fname = annotation[0][5][0]\n",
    "    car_class = annotation[0][4][0]\n",
    "    bboxes_train.append((fname, bbox_x1, bbox_x2, bbox_y1, bbox_y2, int(car_class[0])))\n",
    "\n",
    "train_meta = pd.DataFrame(bboxes_train, columns=['fnames', 'bbox_x1', 'bbox_x2', 'bbox_y1', 'bbox_y2', 'car_class'])\n",
    "\n",
    "# Load test annotations\n",
    "cars_annos_test = sio.loadmat('C:/Users/ASUS/Downloads/CNN_fkvasir/Standford_cars_dataset/cars_test_annos_withlabels (1).mat')\n",
    "annotations_test = cars_annos_test['annotations']\n",
    "annotations_test = np.transpose(annotations_test)\n",
    "\n",
    "fnames_test = []\n",
    "bboxes_test = []\n",
    "\n",
    "for annotation in annotations_test:\n",
    "    bbox_x1 = annotation[0][0][0][0]\n",
    "    bbox_y1 = annotation[0][1][0][0]\n",
    "    bbox_x2 = annotation[0][2][0][0]\n",
    "    bbox_y2 = annotation[0][3][0][0]\n",
    "    fname = annotation[0][5][0]\n",
    "    car_class = annotation[0][4][0]\n",
    "    bboxes_test.append((fname, bbox_x1, bbox_x2, bbox_y1, bbox_y2, int(car_class[0])))\n",
    "\n",
    "test_meta = pd.DataFrame(bboxes_test, columns=['fnames', 'bbox_x1', 'bbox_x2', 'bbox_y1', 'bbox_y2', 'car_class'])\n",
    "\n",
    "\n",
    "\n"
   ]
  },
  {
   "cell_type": "markdown",
   "metadata": {},
   "source": [
    "### Cleaning the Data (Preprocessing)"
   ]
  },
  {
   "cell_type": "code",
   "execution_count": 5,
   "metadata": {},
   "outputs": [],
   "source": [
    "from sklearn.model_selection import train_test_split\n",
    "\n",
    "# Split data into training and validation sets\n",
    "train_meta, val_meta = train_test_split(train_meta, test_size=0.2, random_state=42)\n",
    "\n",
    "# Convert car_class to string (required for categorical mode in ImageDataGenerator)\n",
    "train_meta['car_class'] = train_meta['car_class'].astype(str)\n",
    "val_meta['car_class'] = val_meta['car_class'].astype(str)\n",
    "\n",
    "# Processing and saving training images\n",
    "for i in range(len(train_meta)):\n",
    "    img_path = f\"C:/Users/ASUS/Downloads/CNN_fkvasir/Standford_cars_dataset/cars_train/cars_train/{train_meta['fnames'].iloc[i]}\"\n",
    "    left, top, right, bottom = train_meta['bbox_x1'].iloc[i], train_meta['bbox_y1'].iloc[i], train_meta['bbox_x2'].iloc[i], train_meta['bbox_y2'].iloc[i]\n",
    "    if right <= left or bottom <= top:\n",
    "        print(f\"Invalid bbox for image {img_path}: left={left}, top={top}, right={right}, bottom={bottom}\")\n",
    "        continue\n",
    "    img = Image.open(img_path).crop((left, top, right, bottom))\n",
    "    img_output = f\"C:/Users/ASUS/Downloads/CNN_fkvasir/working/training/{train_meta['fnames'].iloc[i]}\"\n",
    "    img.save(img_output)\n",
    "\n",
    "\n",
    "# Processing and saving validation images\n",
    "for i in range(len(val_meta)):\n",
    "    img_path = f\"C:/Users/ASUS/Downloads/CNN_fkvasir/Standford_cars_dataset/cars_train/cars_train/{val_meta['fnames'].iloc[i]}\"\n",
    "    left, top, right, bottom = val_meta['bbox_x1'].iloc[i], val_meta['bbox_y1'].iloc[i], val_meta['bbox_x2'].iloc[i], val_meta['bbox_y2'].iloc[i]\n",
    "    if right <= left or bottom <= top:\n",
    "        print(f\"Invalid bbox for image {img_path}: left={left}, top={top}, right={right}, bottom={bottom}\")\n",
    "        continue\n",
    "    img = Image.open(img_path).crop((left, top, right, bottom))\n",
    "    img_output = f\"C:/Users/ASUS/Downloads/CNN_fkvasir/working/validation/{val_meta['fnames'].iloc[i]}\"\n",
    "    img.save(img_output)\n",
    "\n",
    "\n",
    "# Processing and saving test images\n",
    "for i in range(len(test_meta)):\n",
    "    img_path = f\"C:/Users/ASUS/Downloads/CNN_fkvasir/Standford_cars_dataset/cars_test/cars_test/{test_meta['fnames'].iloc[i]}\"\n",
    "    left, top, right, bottom = test_meta['bbox_x1'].iloc[i], test_meta['bbox_y1'].iloc[i], test_meta['bbox_x2'].iloc[i], test_meta['bbox_y2'].iloc[i]\n",
    "    if right <= left or bottom <= top:\n",
    "        print(f\"Invalid bbox for image {img_path}: left={left}, top={top}, right={right}, bottom={bottom}\")\n",
    "        continue\n",
    "    img = Image.open(img_path).crop((left, top, right, bottom))\n",
    "    img_output = f\"C:/Users/ASUS/Downloads/CNN_fkvasir/working/testing/{test_meta['fnames'].iloc[i]}\"\n",
    "    img.save(img_output)\n"
   ]
  },
  {
   "cell_type": "code",
   "execution_count": 6,
   "metadata": {},
   "outputs": [],
   "source": [
    "# Update paths in DataFrame\n",
    "train_meta['fnames'] = train_meta['fnames'].apply(lambda x: f\"training/{x}\")\n",
    "val_meta['fnames'] = val_meta['fnames'].apply(lambda x: f\"validation/{x}\")\n",
    "test_meta['fnames'] = test_meta['fnames'].apply(lambda x: f\"testing/{x}\")\n",
    "\n",
    "# Convert car_class to string\n",
    "train_meta['car_class'] = train_meta['car_class'].astype(str)\n",
    "val_meta['car_class'] = val_meta['car_class'].astype(str)\n",
    "test_meta['car_class'] = test_meta['car_class'].astype(str)\n"
   ]
  },
  {
   "cell_type": "markdown",
   "metadata": {},
   "source": [
    "### Selecting / Transforming / Standardizing Features"
   ]
  },
  {
   "cell_type": "code",
   "execution_count": 7,
   "metadata": {},
   "outputs": [
    {
     "name": "stdout",
     "output_type": "stream",
     "text": [
      "Found 6515 validated image filenames belonging to 196 classes.\n",
      "Found 1629 validated image filenames belonging to 196 classes.\n"
     ]
    }
   ],
   "source": [
    "# Data augmentation for the training set\n",
    "train_datagen = ImageDataGenerator(\n",
    "    rescale=1./255,\n",
    "    rotation_range=30,\n",
    "    width_shift_range=0.3,\n",
    "    height_shift_range=0.3,\n",
    "    shear_range=0.3,\n",
    "    zoom_range=0.3,\n",
    "    horizontal_flip=True,\n",
    "    fill_mode='nearest'\n",
    ")\n",
    "\n",
    "training_set = train_datagen.flow_from_dataframe(\n",
    "    dataframe=train_meta,\n",
    "    directory=\"C:/Users/ASUS/Downloads/CNN_fkvasir/working/\",\n",
    "    x_col='fnames',\n",
    "    y_col='car_class',\n",
    "    target_size=(224, 224),\n",
    "    batch_size=32,\n",
    "    class_mode='categorical'\n",
    ")\n",
    "# Data augmentation for the validation set\n",
    "val_datagen = ImageDataGenerator(rescale=1./255)\n",
    "\n",
    "validation_set = val_datagen.flow_from_dataframe(\n",
    "    dataframe=val_meta,\n",
    "    directory=\"C:/Users/ASUS/Downloads/CNN_fkvasir/working/\",\n",
    "    x_col='fnames',\n",
    "    y_col='car_class',\n",
    "    target_size=(224, 224),\n",
    "    batch_size=32,\n",
    "    class_mode='categorical'\n",
    ")"
   ]
  },
  {
   "cell_type": "code",
   "execution_count": 8,
   "metadata": {},
   "outputs": [
    {
     "name": "stdout",
     "output_type": "stream",
     "text": [
      "Found 8041 validated image filenames belonging to 196 classes.\n"
     ]
    }
   ],
   "source": [
    "# Normalize test data\n",
    "test_datagen = ImageDataGenerator(rescale=1./255)\n",
    "\n",
    "test_set = test_datagen.flow_from_dataframe(\n",
    "    dataframe=test_meta,\n",
    "    directory=\"C:/Users/ASUS/Downloads/CNN_fkvasir/working/\",\n",
    "    x_col='fnames',\n",
    "    y_col='car_class',\n",
    "    target_size=(224, 224),\n",
    "    batch_size=32,\n",
    "    class_mode='categorical'\n",
    ")\n",
    "\n"
   ]
  },
  {
   "cell_type": "markdown",
   "metadata": {},
   "source": [
    "### Building CNN Model"
   ]
  },
  {
   "cell_type": "code",
   "execution_count": 9,
   "metadata": {},
   "outputs": [],
   "source": [
    "# Build the CNN from scratch\n",
    "model = Sequential([\n",
    "    # Convolutional layers\n",
    "    Conv2D(32, (3, 3), activation='relu', input_shape=(224, 224, 3)),\n",
    "    MaxPooling2D(pool_size=(2, 2)),\n",
    "    BatchNormalization(),\n",
    "\n",
    "    Conv2D(64, (3, 3), activation='relu'),\n",
    "    MaxPooling2D(pool_size=(2, 2)),\n",
    "    BatchNormalization(),\n",
    "\n",
    "    Conv2D(128, (3, 3), activation='relu'),\n",
    "    MaxPooling2D(pool_size=(2, 2)),\n",
    "    BatchNormalization(),\n",
    "\n",
    "    # Flatten the output\n",
    "    Flatten(),\n",
    "\n",
    "    # Fully connected layers\n",
    "    Dense(256, activation='relu'),\n",
    "    Dropout(0.5),\n",
    "    BatchNormalization(),\n",
    "\n",
    "    Dense(128, activation='relu'),\n",
    "    Dropout(0.5),\n",
    "\n",
    "    # Output layer for 196 classes\n",
    "    Dense(196, activation='softmax')\n",
    "])\n"
   ]
  },
  {
   "cell_type": "markdown",
   "metadata": {},
   "source": [
    "### Training CNN Model"
   ]
  },
  {
   "cell_type": "code",
   "execution_count": 10,
   "metadata": {},
   "outputs": [
    {
     "name": "stdout",
     "output_type": "stream",
     "text": [
      "Epoch 1/30\n",
      "204/204 [==============================] - 649s 3s/step - loss: 5.7180 - accuracy: 0.0068 - val_loss: 5.4276 - val_accuracy: 0.0080\n",
      "Epoch 2/30\n",
      "204/204 [==============================] - 513s 3s/step - loss: 5.5969 - accuracy: 0.0075 - val_loss: 5.2866 - val_accuracy: 0.0074\n",
      "Epoch 3/30\n",
      "204/204 [==============================] - 514s 3s/step - loss: 5.5327 - accuracy: 0.0072 - val_loss: 5.2068 - val_accuracy: 0.0129\n",
      "Epoch 4/30\n",
      "204/204 [==============================] - 532s 3s/step - loss: 5.4980 - accuracy: 0.0068 - val_loss: 5.2046 - val_accuracy: 0.0117\n",
      "Epoch 5/30\n",
      "204/204 [==============================] - 545s 3s/step - loss: 5.4744 - accuracy: 0.0060 - val_loss: 5.2034 - val_accuracy: 0.0141\n",
      "Epoch 6/30\n",
      "204/204 [==============================] - 526s 3s/step - loss: 5.4187 - accuracy: 0.0095 - val_loss: 5.1837 - val_accuracy: 0.0141\n",
      "Epoch 7/30\n",
      "204/204 [==============================] - 1484s 7s/step - loss: 5.4206 - accuracy: 0.0097 - val_loss: 5.1680 - val_accuracy: 0.0203\n",
      "Epoch 8/30\n",
      "204/204 [==============================] - 456s 2s/step - loss: 5.3815 - accuracy: 0.0084 - val_loss: 5.1539 - val_accuracy: 0.0196\n",
      "Epoch 9/30\n",
      "204/204 [==============================] - 495s 2s/step - loss: 5.3587 - accuracy: 0.0112 - val_loss: 5.1466 - val_accuracy: 0.0141\n",
      "Epoch 10/30\n",
      "204/204 [==============================] - 483s 2s/step - loss: 5.3610 - accuracy: 0.0141 - val_loss: 5.1605 - val_accuracy: 0.0117\n",
      "Epoch 11/30\n",
      "204/204 [==============================] - 489s 2s/step - loss: 5.3151 - accuracy: 0.0111 - val_loss: 5.1635 - val_accuracy: 0.0147\n",
      "Epoch 12/30\n",
      "204/204 [==============================] - 1079s 5s/step - loss: 5.3080 - accuracy: 0.0134 - val_loss: 5.1395 - val_accuracy: 0.0172\n",
      "Epoch 13/30\n",
      "204/204 [==============================] - 447s 2s/step - loss: 5.2985 - accuracy: 0.0126 - val_loss: 5.1248 - val_accuracy: 0.0203\n",
      "Epoch 14/30\n",
      "204/204 [==============================] - 478s 2s/step - loss: 5.3001 - accuracy: 0.0111 - val_loss: 5.1292 - val_accuracy: 0.0221\n",
      "Epoch 15/30\n",
      "204/204 [==============================] - 464s 2s/step - loss: 5.2713 - accuracy: 0.0157 - val_loss: 5.1266 - val_accuracy: 0.0227\n",
      "Epoch 16/30\n",
      "204/204 [==============================] - 2841s 14s/step - loss: 5.2760 - accuracy: 0.0141 - val_loss: 5.1290 - val_accuracy: 0.0215\n",
      "Epoch 17/30\n",
      "204/204 [==============================] - 504s 2s/step - loss: 5.2392 - accuracy: 0.0135 - val_loss: 5.1084 - val_accuracy: 0.0233\n",
      "Epoch 18/30\n",
      "204/204 [==============================] - 483s 2s/step - loss: 5.2325 - accuracy: 0.0147 - val_loss: 5.1080 - val_accuracy: 0.0215\n",
      "Epoch 19/30\n",
      "204/204 [==============================] - 469s 2s/step - loss: 5.2211 - accuracy: 0.0132 - val_loss: 5.0913 - val_accuracy: 0.0252\n",
      "Epoch 20/30\n",
      "204/204 [==============================] - 456s 2s/step - loss: 5.2179 - accuracy: 0.0170 - val_loss: 5.0954 - val_accuracy: 0.0282\n",
      "Epoch 21/30\n",
      "204/204 [==============================] - 479s 2s/step - loss: 5.1857 - accuracy: 0.0157 - val_loss: 5.0909 - val_accuracy: 0.0203\n",
      "Epoch 22/30\n",
      "204/204 [==============================] - 3975s 20s/step - loss: 5.1880 - accuracy: 0.0166 - val_loss: 5.1174 - val_accuracy: 0.0184\n",
      "Epoch 23/30\n",
      "204/204 [==============================] - 687s 3s/step - loss: 5.1868 - accuracy: 0.0153 - val_loss: 5.0952 - val_accuracy: 0.0221\n",
      "Epoch 24/30\n",
      "204/204 [==============================] - 525s 3s/step - loss: 5.1841 - accuracy: 0.0178 - val_loss: 5.0977 - val_accuracy: 0.0289\n",
      "Epoch 25/30\n",
      "204/204 [==============================] - 514s 3s/step - loss: 5.1701 - accuracy: 0.0186 - val_loss: 5.0719 - val_accuracy: 0.0276\n",
      "Epoch 26/30\n",
      "204/204 [==============================] - 525s 3s/step - loss: 5.1603 - accuracy: 0.0180 - val_loss: 5.0668 - val_accuracy: 0.0252\n",
      "Epoch 27/30\n",
      "204/204 [==============================] - 505s 2s/step - loss: 5.1452 - accuracy: 0.0198 - val_loss: 5.0737 - val_accuracy: 0.0270\n",
      "Epoch 28/30\n",
      "204/204 [==============================] - 643s 3s/step - loss: 5.1357 - accuracy: 0.0201 - val_loss: 5.0590 - val_accuracy: 0.0264\n",
      "Epoch 29/30\n",
      "204/204 [==============================] - 504s 2s/step - loss: 5.1331 - accuracy: 0.0183 - val_loss: 5.0691 - val_accuracy: 0.0252\n",
      "Epoch 30/30\n",
      "204/204 [==============================] - 499s 2s/step - loss: 5.1237 - accuracy: 0.0180 - val_loss: 5.0544 - val_accuracy: 0.0233\n"
     ]
    }
   ],
   "source": [
    "# Compile the model\n",
    "model.compile(optimizer=tf.keras.optimizers.Adam(learning_rate=0.0001), \n",
    "              loss='categorical_crossentropy', \n",
    "              metrics=['accuracy'])\n",
    "\n",
    "# Early stopping callback\n",
    "early_stopping = EarlyStopping(monitor='val_loss', patience=10, restore_best_weights=True)\n",
    "\n",
    "# Train the model\n",
    "history = model.fit(training_set, \n",
    "                    validation_data=validation_set, \n",
    "                    epochs=30, \n",
    "                    callbacks=[early_stopping])\n"
   ]
  },
  {
   "cell_type": "markdown",
   "metadata": {},
   "source": [
    "### Visualizations of Training Accuracy and Loss"
   ]
  },
  {
   "cell_type": "code",
   "execution_count": 11,
   "metadata": {},
   "outputs": [
    {
     "data": {
      "image/png": "[encoded data removed]",
      "text/plain": [
       "<Figure size 1400x500 with 2 Axes>"
      ]
     },
     "metadata": {},
     "output_type": "display_data"
    }
   ],
   "source": [
    "# Visualize training results\n",
    "plt.figure(figsize=(14, 5))\n",
    "\n",
    "# Plot training and validation loss\n",
    "plt.subplot(1, 2, 1)\n",
    "plt.plot(history.history['loss'], label='Training Loss')\n",
    "plt.plot(history.history['val_loss'], label='Validation Loss')\n",
    "plt.xlabel('Epoch')\n",
    "plt.ylabel('Loss')\n",
    "plt.title('Training and Validation Loss')\n",
    "plt.legend()\n",
    "\n",
    "# Plot training and validation accuracy\n",
    "plt.subplot(1, 2, 2)\n",
    "plt.plot(history.history['accuracy'], label='Training Accuracy')\n",
    "plt.plot(history.history['val_accuracy'], label='Validation Accuracy')\n",
    "plt.xlabel('Epoch')\n",
    "plt.ylabel('Accuracy')\n",
    "plt.title('Training and Validation Accuracy')\n",
    "plt.legend()\n",
    "\n",
    "plt.show()"
   ]
  },
  {
   "cell_type": "code",
   "execution_count": null,
   "metadata": {},
   "outputs": [],
   "source": [
    "# Evaluate and Plot Confusion Matrix\n",
    "\n",
    "from sklearn.metrics import confusion_matrix\n",
    "import seaborn as sns\n",
    "\n",
    "def evaluate_and_plot_confusion_matrix(model, dataset, title, class_names):\n",
    "    # Get true labels and predictions\n",
    "    y_true = np.concatenate([y for _, y in dataset], axis=0)\n",
    "    y_true = np.argmax(y_true, axis=-1)\n",
    "\n",
    "    y_pred = np.argmax(model.predict(dataset), axis=-1)\n",
    "\n",
    "    # Compute confusion matrix\n",
    "    cm = confusion_matrix(y_true, y_pred)\n",
    "\n",
    "    # Calculate per-class accuracy\n",
    "    class_accuracies = cm.diagonal() / cm.sum(axis=1)\n",
    "\n",
    "    # Find class with lowest accuracy\n",
    "    min_acc_class_index = np.argmin(class_accuracies)\n",
    "    min_acc_class = class_names[min_acc_class_index]\n",
    "    min_acc_value = class_accuracies[min_acc_class_index]\n",
    "\n",
    "    print(f\"Category with lowest accuracy: {min_acc_class} ({min_acc_value:.2f})\")\n",
    "\n",
    "    # Plot the confusion matrix\n",
    "    plt.figure(figsize=(12, 10))\n",
    "    sns.heatmap(cm, annot=False, cmap=\"Blues\", fmt='d')\n",
    "    plt.title(f\"{title} Confusion Matrix\")\n",
    "    plt.xlabel(\"Predicted Label\")\n",
    "    plt.ylabel(\"True Label\")\n",
    "    plt.show()\n",
    "\n",
    "# Class names for your dataset\n",
    "class_names = [f\"Class {i}\" for i in range(196)]  # Replace with actual class names if available\n",
    "\n",
    "# Generate confusion matrices for validation and test sets\n",
    "evaluate_and_plot_confusion_matrix(model, validation_set, \"Validation\", class_names)\n",
    "evaluate_and_plot_confusion_matrix(model, test_set, \"Test\", class_names)\n"
   ]
  },
  {
   "cell_type": "markdown",
   "metadata": {},
   "source": [
    "### Evaluation of CNN Model\n",
    "\n",
    "- Testing\n",
    "- Evaluation Metrics\n",
    "- Plotting Metrics"
   ]
  }
 ],
 "metadata": {
  "kernelspec": {
   "display_name": "Python 3",
   "language": "python",
   "name": "python3"
  },
  "language_info": {
   "codemirror_mode": {
    "name": "ipython",
    "version": 3
   },
   "file_extension": ".py",
   "mimetype": "text/x-python",
   "name": "python",
   "nbconvert_exporter": "python",
   "pygments_lexer": "ipython3",
   "version": "3.11.4"
  }
 },
 "nbformat": 4,
 "nbformat_minor": 2
}
