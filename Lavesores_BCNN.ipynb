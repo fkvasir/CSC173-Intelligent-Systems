{
 "cells": [
  {
   "cell_type": "code",
   "execution_count": 1,
   "metadata": {},
   "outputs": [],
   "source": [
    "import numpy as np\n",
    "import matplotlib.pyplot as plt"
   ]
  },
  {
   "cell_type": "code",
   "execution_count": 2,
   "metadata": {},
   "outputs": [],
   "source": [
    "def sigmoid(x):\n",
    "    return 1 / (1 + np.exp(-x))"
   ]
  },
  {
   "cell_type": "code",
   "execution_count": 3,
   "metadata": {},
   "outputs": [],
   "source": [
    "def deriv_sigmoid(x):\n",
    "    fx = sigmoid(x)\n",
    "    return fx * (1 - fx)"
   ]
  },
  {
   "cell_type": "code",
   "execution_count": 4,
   "metadata": {},
   "outputs": [],
   "source": [
    "def mse_loss(y_true, y_pred):\n",
    "    return ((y_true - y_pred) ** 2).mean()"
   ]
  },
  {
   "cell_type": "code",
   "execution_count": 5,
   "metadata": {},
   "outputs": [],
   "source": [
    "class OurNeuralNetwork:\n",
    "    def __init__(self):\n",
    "        self.w1 = np.random.normal()\n",
    "        self.w2 = np.random.normal()\n",
    "        self.w3 = np.random.normal()\n",
    "        self.w4 = np.random.normal()\n",
    "        self.w5 = np.random.normal()\n",
    "        self.w6 = np.random.normal()\n",
    "\n",
    "        self.b1 = np.random.normal()\n",
    "        self.b2 = np.random.normal()\n",
    "        self.b3 = np.random.normal()\n",
    "\n",
    "    def feedforward(self, x):\n",
    "        h1 = sigmoid(self.w1 * x[0] + self.w2 * x[1] + self.b1)\n",
    "        h2 = sigmoid(self.w3 * x[0] + self.w4 * x[1] + self.b2)\n",
    "        o1 = sigmoid(self.w5 * h1 + self.w6 * h2 + self.b3)\n",
    "        return o1\n",
    "\n",
    "    def train(self, data, all_y_trues):\n",
    "        learn_rate = 0.1\n",
    "        epochs = 1000\n",
    "        loss_history = []  # List to store the loss at each epoch\n",
    "\n",
    "        for epoch in range(epochs):\n",
    "            for x, y_true in zip(data, all_y_trues):\n",
    "                # Forward pass\n",
    "                sum_h1 = self.w1 * x[0] + self.w2 * x[1] + self.b1\n",
    "                h1 = sigmoid(sum_h1)\n",
    "\n",
    "                sum_h2 = self.w3 * x[0] + self.w4 * x[1] + self.b2\n",
    "                h2 = sigmoid(sum_h2)\n",
    "\n",
    "                sum_o1 = self.w5 * h1 + self.w6 * h2 + self.b3\n",
    "                o1 = sigmoid(sum_o1)\n",
    "                y_pred = o1\n",
    "\n",
    "                # Calculate the gradients and update weights\n",
    "                d_L_d_ypred = -2 * (y_true - y_pred)\n",
    "                \n",
    "                # Backpropagation (Gradient descent updates for weights)\n",
    "                d_ypred_d_w5 = h1 * deriv_sigmoid(sum_o1)\n",
    "                d_ypred_d_w6 = h2 * deriv_sigmoid(sum_o1)\n",
    "                d_ypred_d_b3 = deriv_sigmoid(sum_o1)\n",
    "\n",
    "                # Update weights and biases\n",
    "                self.w5 -= learn_rate * d_L_d_ypred * d_ypred_d_w5\n",
    "                self.w6 -= learn_rate * d_L_d_ypred * d_ypred_d_w6\n",
    "                self.b3 -= learn_rate * d_L_d_ypred * d_ypred_d_b3\n",
    "\n",
    "                # Hidden layer gradients\n",
    "                d_h1_d_w1 = x[0] * deriv_sigmoid(sum_h1)\n",
    "                d_h1_d_w2 = x[1] * deriv_sigmoid(sum_h1)\n",
    "                d_h1_d_b1 = deriv_sigmoid(sum_h1)\n",
    "\n",
    "                d_h2_d_w3 = x[0] * deriv_sigmoid(sum_h2)\n",
    "                d_h2_d_w4 = x[1] * deriv_sigmoid(sum_h2)\n",
    "                d_h2_d_b2 = deriv_sigmoid(sum_h2)\n",
    "\n",
    "                # Update hidden weights and biases\n",
    "                self.w1 -= learn_rate * d_L_d_ypred * self.w5 * d_h1_d_w1\n",
    "                self.w2 -= learn_rate * d_L_d_ypred * self.w5 * d_h1_d_w2\n",
    "                self.b1 -= learn_rate * d_L_d_ypred * self.w5 * d_h1_d_b1\n",
    "\n",
    "                self.w3 -= learn_rate * d_L_d_ypred * self.w6 * d_h2_d_w3\n",
    "                self.w4 -= learn_rate * d_L_d_ypred * self.w6 * d_h2_d_w4\n",
    "                self.b2 -= learn_rate * d_L_d_ypred * self.w6 * d_h2_d_b2\n",
    "\n",
    "            # Calculate loss and store it\n",
    "            y_preds = np.apply_along_axis(self.feedforward, 1, data)\n",
    "            loss = mse_loss(all_y_trues, y_preds)\n",
    "            loss_history.append(loss)  # Append the loss for this epoch\n",
    "\n",
    "            if epoch % 100 == 0:  # Print loss every 100 epochs\n",
    "                print(\"Epoch %d loss: %.3f\" % (epoch, loss))\n",
    "\n",
    "        # Plot the loss history after training\n",
    "        plt.plot(loss_history)\n",
    "        plt.title('Training Loss Over Epochs')\n",
    "        plt.xlabel('Epochs')\n",
    "        plt.ylabel('Loss')\n",
    "        plt.grid()\n",
    "        plt.show()"
   ]
  },
  {
   "cell_type": "code",
   "execution_count": 6,
   "metadata": {},
   "outputs": [],
   "source": [
    "data = np.array([\n",
    "    [2104, 3],\n",
    "    [1600, 3],\n",
    "    [2400, 3],\n",
    "    [1416, 2],\n",
    "    [3000, 4],\n",
    "    [1985, 4],\n",
    "    [1534, 3],\n",
    "    [1427, 3],\n",
    "    [1380, 3],\n",
    "    [1494, 3]\n",
    "])"
   ]
  },
  {
   "cell_type": "code",
   "execution_count": 7,
   "metadata": {},
   "outputs": [],
   "source": [
    "data[:, 0] = data[:, 0] / 3000  # normalize area\n",
    "data[:, 1] = data[:, 1] / 4     # normalize bathrooms"
   ]
  },
  {
   "cell_type": "code",
   "execution_count": 8,
   "metadata": {},
   "outputs": [],
   "source": [
    "all_y_trues = np.array([1, 1, 1, 0, 0, 1, 0, 1, 1, 1])\n"
   ]
  },
  {
   "cell_type": "code",
   "execution_count": 9,
   "metadata": {},
   "outputs": [
    {
     "name": "stdout",
     "output_type": "stream",
     "text": [
      "Epoch 0 loss: 0.345\n",
      "Epoch 100 loss: 0.167\n",
      "Epoch 200 loss: 0.159\n",
      "Epoch 300 loss: 0.156\n",
      "Epoch 400 loss: 0.154\n",
      "Epoch 500 loss: 0.153\n",
      "Epoch 600 loss: 0.152\n",
      "Epoch 700 loss: 0.152\n",
      "Epoch 800 loss: 0.152\n",
      "Epoch 900 loss: 0.151\n"
     ]
    },
    {
     "data": {
      "image/png": "[encoded data removed]",
      "text/plain": [
       "<Figure size 640x480 with 1 Axes>"
      ]
     },
     "metadata": {},
     "output_type": "display_data"
    }
   ],
   "source": [
    "network = OurNeuralNetwork()\n",
    "network.train(data, all_y_trues)"
   ]
  }
 ],
 "metadata": {
  "kernelspec": {
   "display_name": ".venv",
   "language": "python",
   "name": "python3"
  },
  "language_info": {
   "codemirror_mode": {
    "name": "ipython",
    "version": 3
   },
   "file_extension": ".py",
   "mimetype": "text/x-python",
   "name": "python",
   "nbconvert_exporter": "python",
   "pygments_lexer": "ipython3",
   "version": "3.11.4"
  }
 },
 "nbformat": 4,
 "nbformat_minor": 2
}
